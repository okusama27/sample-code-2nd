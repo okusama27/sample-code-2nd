{
 "cells": [
  {
   "cell_type": "markdown",
   "metadata": {},
   "source": [
    "## 3.6: データの前処理"
   ]
  },
  {
   "cell_type": "code",
   "execution_count": 1,
   "metadata": {},
   "outputs": [
    {
     "data": {
      "text/html": [
       "<div>\n",
       "<style scoped>\n",
       "    .dataframe tbody tr th:only-of-type {\n",
       "        vertical-align: middle;\n",
       "    }\n",
       "\n",
       "    .dataframe tbody tr th {\n",
       "        vertical-align: top;\n",
       "    }\n",
       "\n",
       "    .dataframe thead th {\n",
       "        text-align: right;\n",
       "    }\n",
       "</style>\n",
       "<table border=\"1\" class=\"dataframe\">\n",
       "  <thead>\n",
       "    <tr style=\"text-align: right;\">\n",
       "      <th></th>\n",
       "      <th>anime_id</th>\n",
       "      <th>name</th>\n",
       "      <th>genre</th>\n",
       "      <th>type</th>\n",
       "      <th>episodes</th>\n",
       "      <th>rating</th>\n",
       "      <th>members</th>\n",
       "    </tr>\n",
       "  </thead>\n",
       "  <tbody>\n",
       "    <tr>\n",
       "      <th>73</th>\n",
       "      <td>21</td>\n",
       "      <td>One Piece</td>\n",
       "      <td>Action, Adventure, Comedy, Drama, Fantasy, Sho...</td>\n",
       "      <td>TV</td>\n",
       "      <td>Unknown</td>\n",
       "      <td>8.58</td>\n",
       "      <td>504862</td>\n",
       "    </tr>\n",
       "    <tr>\n",
       "      <th>248</th>\n",
       "      <td>235</td>\n",
       "      <td>Detective Conan</td>\n",
       "      <td>Adventure, Comedy, Mystery, Police, Shounen</td>\n",
       "      <td>TV</td>\n",
       "      <td>Unknown</td>\n",
       "      <td>8.25</td>\n",
       "      <td>114702</td>\n",
       "    </tr>\n",
       "    <tr>\n",
       "      <th>607</th>\n",
       "      <td>1735</td>\n",
       "      <td>Naruto: Shippuuden</td>\n",
       "      <td>Action, Comedy, Martial Arts, Shounen, Super P...</td>\n",
       "      <td>TV</td>\n",
       "      <td>Unknown</td>\n",
       "      <td>7.94</td>\n",
       "      <td>533578</td>\n",
       "    </tr>\n",
       "    <tr>\n",
       "      <th>993</th>\n",
       "      <td>33157</td>\n",
       "      <td>Tanaka-kun wa Itsumo Kedaruge Specials</td>\n",
       "      <td>Comedy, School, Slice of Life</td>\n",
       "      <td>Special</td>\n",
       "      <td>Unknown</td>\n",
       "      <td>7.72</td>\n",
       "      <td>5400</td>\n",
       "    </tr>\n",
       "    <tr>\n",
       "      <th>1226</th>\n",
       "      <td>21639</td>\n",
       "      <td>Yu☆Gi☆Oh! Arc-V</td>\n",
       "      <td>Action, Fantasy, Game, Shounen</td>\n",
       "      <td>TV</td>\n",
       "      <td>Unknown</td>\n",
       "      <td>7.61</td>\n",
       "      <td>17571</td>\n",
       "    </tr>\n",
       "  </tbody>\n",
       "</table>\n",
       "</div>"
      ],
      "text/plain": [
       "      anime_id                                    name  \\\n",
       "73          21                               One Piece   \n",
       "248        235                         Detective Conan   \n",
       "607       1735                      Naruto: Shippuuden   \n",
       "993      33157  Tanaka-kun wa Itsumo Kedaruge Specials   \n",
       "1226     21639                         Yu☆Gi☆Oh! Arc-V   \n",
       "\n",
       "                                                  genre     type episodes  \\\n",
       "73    Action, Adventure, Comedy, Drama, Fantasy, Sho...       TV  Unknown   \n",
       "248         Adventure, Comedy, Mystery, Police, Shounen       TV  Unknown   \n",
       "607   Action, Comedy, Martial Arts, Shounen, Super P...       TV  Unknown   \n",
       "993                       Comedy, School, Slice of Life  Special  Unknown   \n",
       "1226                     Action, Fantasy, Game, Shounen       TV  Unknown   \n",
       "\n",
       "      rating  members  \n",
       "73      8.58   504862  \n",
       "248     8.25   114702  \n",
       "607     7.94   533578  \n",
       "993     7.72     5400  \n",
       "1226    7.61    17571  "
      ]
     },
     "execution_count": 1,
     "metadata": {},
     "output_type": "execute_result"
    }
   ],
   "source": [
    "# リスト 3.6.1　条件を指定してデータを抽出\n",
    "\n",
    "from urllib.parse import urljoin\n",
    "import pandas as pd\n",
    "\n",
    "base_url = \"https://raw.githubusercontent.com/practical-jupyter/sample-data/master/anime/\"\n",
    "anime_csv = urljoin(base_url, \"anime.csv\")\n",
    "df = pd.read_csv(anime_csv)\n",
    "df.loc[df[\"episodes\"] == \"Unknown\"].head()"
   ]
  },
  {
   "cell_type": "code",
   "execution_count": 2,
   "metadata": {},
   "outputs": [
    {
     "data": {
      "text/html": [
       "<div>\n",
       "<style scoped>\n",
       "    .dataframe tbody tr th:only-of-type {\n",
       "        vertical-align: middle;\n",
       "    }\n",
       "\n",
       "    .dataframe tbody tr th {\n",
       "        vertical-align: top;\n",
       "    }\n",
       "\n",
       "    .dataframe thead th {\n",
       "        text-align: right;\n",
       "    }\n",
       "</style>\n",
       "<table border=\"1\" class=\"dataframe\">\n",
       "  <thead>\n",
       "    <tr style=\"text-align: right;\">\n",
       "      <th></th>\n",
       "      <th>anime_id</th>\n",
       "      <th>name</th>\n",
       "      <th>genre</th>\n",
       "      <th>type</th>\n",
       "      <th>episodes</th>\n",
       "      <th>rating</th>\n",
       "      <th>members</th>\n",
       "    </tr>\n",
       "  </thead>\n",
       "  <tbody>\n",
       "    <tr>\n",
       "      <th>0</th>\n",
       "      <td>NaN</td>\n",
       "      <td>NaN</td>\n",
       "      <td>NaN</td>\n",
       "      <td>NaN</td>\n",
       "      <td>NaN</td>\n",
       "      <td>NaN</td>\n",
       "      <td>NaN</td>\n",
       "    </tr>\n",
       "    <tr>\n",
       "      <th>1</th>\n",
       "      <td>NaN</td>\n",
       "      <td>NaN</td>\n",
       "      <td>NaN</td>\n",
       "      <td>NaN</td>\n",
       "      <td>NaN</td>\n",
       "      <td>NaN</td>\n",
       "      <td>NaN</td>\n",
       "    </tr>\n",
       "    <tr>\n",
       "      <th>2</th>\n",
       "      <td>NaN</td>\n",
       "      <td>NaN</td>\n",
       "      <td>NaN</td>\n",
       "      <td>NaN</td>\n",
       "      <td>NaN</td>\n",
       "      <td>NaN</td>\n",
       "      <td>NaN</td>\n",
       "    </tr>\n",
       "    <tr>\n",
       "      <th>3</th>\n",
       "      <td>9253.0</td>\n",
       "      <td>Steins;Gate</td>\n",
       "      <td>Sci-Fi, Thriller</td>\n",
       "      <td>TV</td>\n",
       "      <td>24</td>\n",
       "      <td>9.17</td>\n",
       "      <td>673572.0</td>\n",
       "    </tr>\n",
       "    <tr>\n",
       "      <th>4</th>\n",
       "      <td>9969.0</td>\n",
       "      <td>Gintama&amp;#039;</td>\n",
       "      <td>Action, Comedy, Historical, Parody, Samurai, S...</td>\n",
       "      <td>TV</td>\n",
       "      <td>51</td>\n",
       "      <td>9.16</td>\n",
       "      <td>151266.0</td>\n",
       "    </tr>\n",
       "  </tbody>\n",
       "</table>\n",
       "</div>"
      ],
      "text/plain": [
       "   anime_id           name                                              genre  \\\n",
       "0       NaN            NaN                                                NaN   \n",
       "1       NaN            NaN                                                NaN   \n",
       "2       NaN            NaN                                                NaN   \n",
       "3    9253.0    Steins;Gate                                   Sci-Fi, Thriller   \n",
       "4    9969.0  Gintama&#039;  Action, Comedy, Historical, Parody, Samurai, S...   \n",
       "\n",
       "  type episodes  rating   members  \n",
       "0  NaN      NaN     NaN       NaN  \n",
       "1  NaN      NaN     NaN       NaN  \n",
       "2  NaN      NaN     NaN       NaN  \n",
       "3   TV       24    9.17  673572.0  \n",
       "4   TV       51    9.16  151266.0  "
      ]
     },
     "execution_count": 2,
     "metadata": {},
     "output_type": "execute_result"
    }
   ],
   "source": [
    "# リスト 3.6.2　要素数を維持してデータを抽出\n",
    "\n",
    "df.where(df[\"rating\"] < 9.2).head()"
   ]
  },
  {
   "cell_type": "code",
   "execution_count": 3,
   "metadata": {},
   "outputs": [
    {
     "data": {
      "text/plain": [
       "nan"
      ]
     },
     "execution_count": 3,
     "metadata": {},
     "output_type": "execute_result"
    }
   ],
   "source": [
    "# リスト 3.6.3　値の変更\n",
    "\n",
    "import numpy as np\n",
    "\n",
    "df.loc[74, \"episodes\"] = np.nan\n",
    "df.loc[74, \"episodes\"]"
   ]
  },
  {
   "cell_type": "code",
   "execution_count": 4,
   "metadata": {},
   "outputs": [],
   "source": [
    "# リスト 3.6.4　複数の値を変更\n",
    "\n",
    "df.loc[df[\"episodes\"] == \"Unknown\", \"episodes\"] = np.nan"
   ]
  },
  {
   "cell_type": "code",
   "execution_count": 5,
   "metadata": {},
   "outputs": [
    {
     "data": {
      "text/html": [
       "<div>\n",
       "<style scoped>\n",
       "    .dataframe tbody tr th:only-of-type {\n",
       "        vertical-align: middle;\n",
       "    }\n",
       "\n",
       "    .dataframe tbody tr th {\n",
       "        vertical-align: top;\n",
       "    }\n",
       "\n",
       "    .dataframe thead th {\n",
       "        text-align: right;\n",
       "    }\n",
       "</style>\n",
       "<table border=\"1\" class=\"dataframe\">\n",
       "  <thead>\n",
       "    <tr style=\"text-align: right;\">\n",
       "      <th></th>\n",
       "      <th>anime_id</th>\n",
       "      <th>name</th>\n",
       "      <th>genre</th>\n",
       "      <th>type</th>\n",
       "      <th>episodes</th>\n",
       "      <th>rating</th>\n",
       "      <th>members</th>\n",
       "    </tr>\n",
       "  </thead>\n",
       "  <tbody>\n",
       "    <tr>\n",
       "      <th>73</th>\n",
       "      <td>21</td>\n",
       "      <td>One Piece</td>\n",
       "      <td>Action, Adventure, Comedy, Drama, Fantasy, Sho...</td>\n",
       "      <td>TV</td>\n",
       "      <td>NaN</td>\n",
       "      <td>8.58</td>\n",
       "      <td>504862</td>\n",
       "    </tr>\n",
       "    <tr>\n",
       "      <th>74</th>\n",
       "      <td>801</td>\n",
       "      <td>Ghost in the Shell: Stand Alone Complex 2nd GIG</td>\n",
       "      <td>Action, Mecha, Military, Mystery, Police, Sci-...</td>\n",
       "      <td>TV</td>\n",
       "      <td>NaN</td>\n",
       "      <td>8.57</td>\n",
       "      <td>113993</td>\n",
       "    </tr>\n",
       "    <tr>\n",
       "      <th>248</th>\n",
       "      <td>235</td>\n",
       "      <td>Detective Conan</td>\n",
       "      <td>Adventure, Comedy, Mystery, Police, Shounen</td>\n",
       "      <td>TV</td>\n",
       "      <td>NaN</td>\n",
       "      <td>8.25</td>\n",
       "      <td>114702</td>\n",
       "    </tr>\n",
       "    <tr>\n",
       "      <th>607</th>\n",
       "      <td>1735</td>\n",
       "      <td>Naruto: Shippuuden</td>\n",
       "      <td>Action, Comedy, Martial Arts, Shounen, Super P...</td>\n",
       "      <td>TV</td>\n",
       "      <td>NaN</td>\n",
       "      <td>7.94</td>\n",
       "      <td>533578</td>\n",
       "    </tr>\n",
       "    <tr>\n",
       "      <th>993</th>\n",
       "      <td>33157</td>\n",
       "      <td>Tanaka-kun wa Itsumo Kedaruge Specials</td>\n",
       "      <td>Comedy, School, Slice of Life</td>\n",
       "      <td>Special</td>\n",
       "      <td>NaN</td>\n",
       "      <td>7.72</td>\n",
       "      <td>5400</td>\n",
       "    </tr>\n",
       "  </tbody>\n",
       "</table>\n",
       "</div>"
      ],
      "text/plain": [
       "     anime_id                                             name  \\\n",
       "73         21                                        One Piece   \n",
       "74        801  Ghost in the Shell: Stand Alone Complex 2nd GIG   \n",
       "248       235                                  Detective Conan   \n",
       "607      1735                               Naruto: Shippuuden   \n",
       "993     33157           Tanaka-kun wa Itsumo Kedaruge Specials   \n",
       "\n",
       "                                                 genre     type episodes  \\\n",
       "73   Action, Adventure, Comedy, Drama, Fantasy, Sho...       TV      NaN   \n",
       "74   Action, Mecha, Military, Mystery, Police, Sci-...       TV      NaN   \n",
       "248        Adventure, Comedy, Mystery, Police, Shounen       TV      NaN   \n",
       "607  Action, Comedy, Martial Arts, Shounen, Super P...       TV      NaN   \n",
       "993                      Comedy, School, Slice of Life  Special      NaN   \n",
       "\n",
       "     rating  members  \n",
       "73     8.58   504862  \n",
       "74     8.57   113993  \n",
       "248    8.25   114702  \n",
       "607    7.94   533578  \n",
       "993    7.72     5400  "
      ]
     },
     "execution_count": 5,
     "metadata": {},
     "output_type": "execute_result"
    }
   ],
   "source": [
    "# リスト 3.6.5　欠損値が含まれているデータの抽出\n",
    "\n",
    "df.loc[df[\"episodes\"].isnull()].head()"
   ]
  },
  {
   "cell_type": "code",
   "execution_count": 6,
   "metadata": {},
   "outputs": [
    {
     "data": {
      "text/html": [
       "<div>\n",
       "<style scoped>\n",
       "    .dataframe tbody tr th:only-of-type {\n",
       "        vertical-align: middle;\n",
       "    }\n",
       "\n",
       "    .dataframe tbody tr th {\n",
       "        vertical-align: top;\n",
       "    }\n",
       "\n",
       "    .dataframe thead th {\n",
       "        text-align: right;\n",
       "    }\n",
       "</style>\n",
       "<table border=\"1\" class=\"dataframe\">\n",
       "  <thead>\n",
       "    <tr style=\"text-align: right;\">\n",
       "      <th></th>\n",
       "      <th>anime_id</th>\n",
       "      <th>name</th>\n",
       "      <th>genre</th>\n",
       "      <th>type</th>\n",
       "      <th>episodes</th>\n",
       "      <th>rating</th>\n",
       "      <th>members</th>\n",
       "    </tr>\n",
       "  </thead>\n",
       "  <tbody>\n",
       "    <tr>\n",
       "      <th>70</th>\n",
       "      <td>578</td>\n",
       "      <td>Hotaru no Haka</td>\n",
       "      <td>Drama, Historical</td>\n",
       "      <td>Movie</td>\n",
       "      <td>1</td>\n",
       "      <td>8.58</td>\n",
       "      <td>174878</td>\n",
       "    </tr>\n",
       "    <tr>\n",
       "      <th>71</th>\n",
       "      <td>16894</td>\n",
       "      <td>Kuroko no Basket 2nd Season</td>\n",
       "      <td>Comedy, School, Shounen, Sports</td>\n",
       "      <td>TV</td>\n",
       "      <td>25</td>\n",
       "      <td>8.58</td>\n",
       "      <td>243325</td>\n",
       "    </tr>\n",
       "    <tr>\n",
       "      <th>72</th>\n",
       "      <td>5028</td>\n",
       "      <td>Major S5</td>\n",
       "      <td>Comedy, Drama, Romance, Sports</td>\n",
       "      <td>TV</td>\n",
       "      <td>25</td>\n",
       "      <td>8.58</td>\n",
       "      <td>28653</td>\n",
       "    </tr>\n",
       "    <tr>\n",
       "      <th>75</th>\n",
       "      <td>31933</td>\n",
       "      <td>JoJo no Kimyou na Bouken: Diamond wa Kudakenai</td>\n",
       "      <td>Action, Adventure, Comedy, Drama, Shounen, Sup...</td>\n",
       "      <td>TV</td>\n",
       "      <td>39</td>\n",
       "      <td>8.57</td>\n",
       "      <td>74074</td>\n",
       "    </tr>\n",
       "    <tr>\n",
       "      <th>76</th>\n",
       "      <td>5205</td>\n",
       "      <td>Kara no Kyoukai 7: Satsujin Kousatsu (Kou)</td>\n",
       "      <td>Action, Mystery, Romance, Supernatural, Thriller</td>\n",
       "      <td>Movie</td>\n",
       "      <td>1</td>\n",
       "      <td>8.57</td>\n",
       "      <td>95658</td>\n",
       "    </tr>\n",
       "  </tbody>\n",
       "</table>\n",
       "</div>"
      ],
      "text/plain": [
       "    anime_id                                            name  \\\n",
       "70       578                                  Hotaru no Haka   \n",
       "71     16894                     Kuroko no Basket 2nd Season   \n",
       "72      5028                                        Major S5   \n",
       "75     31933  JoJo no Kimyou na Bouken: Diamond wa Kudakenai   \n",
       "76      5205      Kara no Kyoukai 7: Satsujin Kousatsu (Kou)   \n",
       "\n",
       "                                                genre   type episodes  rating  \\\n",
       "70                                  Drama, Historical  Movie        1    8.58   \n",
       "71                    Comedy, School, Shounen, Sports     TV       25    8.58   \n",
       "72                     Comedy, Drama, Romance, Sports     TV       25    8.58   \n",
       "75  Action, Adventure, Comedy, Drama, Shounen, Sup...     TV       39    8.57   \n",
       "76   Action, Mystery, Romance, Supernatural, Thriller  Movie        1    8.57   \n",
       "\n",
       "    members  \n",
       "70   174878  \n",
       "71   243325  \n",
       "72    28653  \n",
       "75    74074  \n",
       "76    95658  "
      ]
     },
     "execution_count": 6,
     "metadata": {},
     "output_type": "execute_result"
    }
   ],
   "source": [
    "#  リスト 3.6.6　欠損値が含まれているデータを除外\n",
    "\n",
    "df.dropna().loc[70:].head()"
   ]
  },
  {
   "cell_type": "code",
   "execution_count": 7,
   "metadata": {},
   "outputs": [
    {
     "data": {
      "text/html": [
       "<div>\n",
       "<style scoped>\n",
       "    .dataframe tbody tr th:only-of-type {\n",
       "        vertical-align: middle;\n",
       "    }\n",
       "\n",
       "    .dataframe tbody tr th {\n",
       "        vertical-align: top;\n",
       "    }\n",
       "\n",
       "    .dataframe thead th {\n",
       "        text-align: right;\n",
       "    }\n",
       "</style>\n",
       "<table border=\"1\" class=\"dataframe\">\n",
       "  <thead>\n",
       "    <tr style=\"text-align: right;\">\n",
       "      <th></th>\n",
       "      <th>anime_id</th>\n",
       "      <th>name</th>\n",
       "      <th>genre</th>\n",
       "      <th>type</th>\n",
       "      <th>episodes</th>\n",
       "      <th>rating</th>\n",
       "      <th>members</th>\n",
       "    </tr>\n",
       "  </thead>\n",
       "  <tbody>\n",
       "    <tr>\n",
       "      <th>70</th>\n",
       "      <td>578</td>\n",
       "      <td>Hotaru no Haka</td>\n",
       "      <td>Drama, Historical</td>\n",
       "      <td>Movie</td>\n",
       "      <td>1</td>\n",
       "      <td>8.58</td>\n",
       "      <td>174878</td>\n",
       "    </tr>\n",
       "    <tr>\n",
       "      <th>71</th>\n",
       "      <td>16894</td>\n",
       "      <td>Kuroko no Basket 2nd Season</td>\n",
       "      <td>Comedy, School, Shounen, Sports</td>\n",
       "      <td>TV</td>\n",
       "      <td>25</td>\n",
       "      <td>8.58</td>\n",
       "      <td>243325</td>\n",
       "    </tr>\n",
       "    <tr>\n",
       "      <th>72</th>\n",
       "      <td>5028</td>\n",
       "      <td>Major S5</td>\n",
       "      <td>Comedy, Drama, Romance, Sports</td>\n",
       "      <td>TV</td>\n",
       "      <td>25</td>\n",
       "      <td>8.58</td>\n",
       "      <td>28653</td>\n",
       "    </tr>\n",
       "    <tr>\n",
       "      <th>73</th>\n",
       "      <td>21</td>\n",
       "      <td>One Piece</td>\n",
       "      <td>Action, Adventure, Comedy, Drama, Fantasy, Sho...</td>\n",
       "      <td>TV</td>\n",
       "      <td>NaN</td>\n",
       "      <td>8.58</td>\n",
       "      <td>504862</td>\n",
       "    </tr>\n",
       "    <tr>\n",
       "      <th>74</th>\n",
       "      <td>801</td>\n",
       "      <td>Ghost in the Shell: Stand Alone Complex 2nd GIG</td>\n",
       "      <td>Action, Mecha, Military, Mystery, Police, Sci-...</td>\n",
       "      <td>TV</td>\n",
       "      <td>NaN</td>\n",
       "      <td>8.57</td>\n",
       "      <td>113993</td>\n",
       "    </tr>\n",
       "  </tbody>\n",
       "</table>\n",
       "</div>"
      ],
      "text/plain": [
       "    anime_id                                             name  \\\n",
       "70       578                                   Hotaru no Haka   \n",
       "71     16894                      Kuroko no Basket 2nd Season   \n",
       "72      5028                                         Major S5   \n",
       "73        21                                        One Piece   \n",
       "74       801  Ghost in the Shell: Stand Alone Complex 2nd GIG   \n",
       "\n",
       "                                                genre   type episodes  rating  \\\n",
       "70                                  Drama, Historical  Movie        1    8.58   \n",
       "71                    Comedy, School, Shounen, Sports     TV       25    8.58   \n",
       "72                     Comedy, Drama, Romance, Sports     TV       25    8.58   \n",
       "73  Action, Adventure, Comedy, Drama, Fantasy, Sho...     TV      NaN    8.58   \n",
       "74  Action, Mecha, Military, Mystery, Police, Sci-...     TV      NaN    8.57   \n",
       "\n",
       "    members  \n",
       "70   174878  \n",
       "71   243325  \n",
       "72    28653  \n",
       "73   504862  \n",
       "74   113993  "
      ]
     },
     "execution_count": 7,
     "metadata": {},
     "output_type": "execute_result"
    }
   ],
   "source": [
    "# リスト 3.6.7　元のオブジェクトを確認\n",
    "\n",
    "df.loc[70:].head()"
   ]
  },
  {
   "cell_type": "code",
   "execution_count": 8,
   "metadata": {},
   "outputs": [
    {
     "data": {
      "text/html": [
       "<div>\n",
       "<style scoped>\n",
       "    .dataframe tbody tr th:only-of-type {\n",
       "        vertical-align: middle;\n",
       "    }\n",
       "\n",
       "    .dataframe tbody tr th {\n",
       "        vertical-align: top;\n",
       "    }\n",
       "\n",
       "    .dataframe thead th {\n",
       "        text-align: right;\n",
       "    }\n",
       "</style>\n",
       "<table border=\"1\" class=\"dataframe\">\n",
       "  <thead>\n",
       "    <tr style=\"text-align: right;\">\n",
       "      <th></th>\n",
       "      <th>anime_id</th>\n",
       "      <th>name</th>\n",
       "      <th>genre</th>\n",
       "      <th>type</th>\n",
       "      <th>episodes</th>\n",
       "      <th>rating</th>\n",
       "      <th>members</th>\n",
       "    </tr>\n",
       "  </thead>\n",
       "  <tbody>\n",
       "    <tr>\n",
       "      <th>70</th>\n",
       "      <td>578</td>\n",
       "      <td>Hotaru no Haka</td>\n",
       "      <td>Drama, Historical</td>\n",
       "      <td>Movie</td>\n",
       "      <td>1</td>\n",
       "      <td>8.58</td>\n",
       "      <td>174878</td>\n",
       "    </tr>\n",
       "    <tr>\n",
       "      <th>71</th>\n",
       "      <td>16894</td>\n",
       "      <td>Kuroko no Basket 2nd Season</td>\n",
       "      <td>Comedy, School, Shounen, Sports</td>\n",
       "      <td>TV</td>\n",
       "      <td>25</td>\n",
       "      <td>8.58</td>\n",
       "      <td>243325</td>\n",
       "    </tr>\n",
       "    <tr>\n",
       "      <th>72</th>\n",
       "      <td>5028</td>\n",
       "      <td>Major S5</td>\n",
       "      <td>Comedy, Drama, Romance, Sports</td>\n",
       "      <td>TV</td>\n",
       "      <td>25</td>\n",
       "      <td>8.58</td>\n",
       "      <td>28653</td>\n",
       "    </tr>\n",
       "    <tr>\n",
       "      <th>75</th>\n",
       "      <td>31933</td>\n",
       "      <td>JoJo no Kimyou na Bouken: Diamond wa Kudakenai</td>\n",
       "      <td>Action, Adventure, Comedy, Drama, Shounen, Sup...</td>\n",
       "      <td>TV</td>\n",
       "      <td>39</td>\n",
       "      <td>8.57</td>\n",
       "      <td>74074</td>\n",
       "    </tr>\n",
       "    <tr>\n",
       "      <th>76</th>\n",
       "      <td>5205</td>\n",
       "      <td>Kara no Kyoukai 7: Satsujin Kousatsu (Kou)</td>\n",
       "      <td>Action, Mystery, Romance, Supernatural, Thriller</td>\n",
       "      <td>Movie</td>\n",
       "      <td>1</td>\n",
       "      <td>8.57</td>\n",
       "      <td>95658</td>\n",
       "    </tr>\n",
       "  </tbody>\n",
       "</table>\n",
       "</div>"
      ],
      "text/plain": [
       "    anime_id                                            name  \\\n",
       "70       578                                  Hotaru no Haka   \n",
       "71     16894                     Kuroko no Basket 2nd Season   \n",
       "72      5028                                        Major S5   \n",
       "75     31933  JoJo no Kimyou na Bouken: Diamond wa Kudakenai   \n",
       "76      5205      Kara no Kyoukai 7: Satsujin Kousatsu (Kou)   \n",
       "\n",
       "                                                genre   type episodes  rating  \\\n",
       "70                                  Drama, Historical  Movie        1    8.58   \n",
       "71                    Comedy, School, Shounen, Sports     TV       25    8.58   \n",
       "72                     Comedy, Drama, Romance, Sports     TV       25    8.58   \n",
       "75  Action, Adventure, Comedy, Drama, Shounen, Sup...     TV       39    8.57   \n",
       "76   Action, Mystery, Romance, Supernatural, Thriller  Movie        1    8.57   \n",
       "\n",
       "    members  \n",
       "70   174878  \n",
       "71   243325  \n",
       "72    28653  \n",
       "75    74074  \n",
       "76    95658  "
      ]
     },
     "execution_count": 8,
     "metadata": {},
     "output_type": "execute_result"
    }
   ],
   "source": [
    "# リスト 3.6.8　DataFrame の内容を破壊的に変更\n",
    "\n",
    "df.dropna(inplace=True)\n",
    "df.loc[70:].head()"
   ]
  },
  {
   "cell_type": "code",
   "execution_count": 9,
   "metadata": {},
   "outputs": [
    {
     "data": {
      "text/plain": [
       "dtype('int64')"
      ]
     },
     "execution_count": 9,
     "metadata": {},
     "output_type": "execute_result"
    }
   ],
   "source": [
    "# リスト 3.6.9　Series のデータ型を確認\n",
    "\n",
    "df[\"anime_id\"].dtype"
   ]
  },
  {
   "cell_type": "code",
   "execution_count": 10,
   "metadata": {},
   "outputs": [
    {
     "data": {
      "text/plain": [
       "anime_id      int64\n",
       "name         object\n",
       "genre        object\n",
       "type         object\n",
       "episodes     object\n",
       "rating      float64\n",
       "members       int64\n",
       "dtype: object"
      ]
     },
     "execution_count": 10,
     "metadata": {},
     "output_type": "execute_result"
    }
   ],
   "source": [
    "# リスト 3.6.10　DataFrame のデータ型を確認\n",
    "\n",
    "df.dtypes"
   ]
  },
  {
   "cell_type": "code",
   "execution_count": 11,
   "metadata": {},
   "outputs": [
    {
     "data": {
      "text/plain": [
       "0         1\n",
       "1        64\n",
       "2        51\n",
       "3        24\n",
       "4        51\n",
       "         ..\n",
       "10272     1\n",
       "10273    23\n",
       "10274     1\n",
       "10275     1\n",
       "10276    32\n",
       "Name: episodes, Length: 10075, dtype: int32"
      ]
     },
     "execution_count": 11,
     "metadata": {},
     "output_type": "execute_result"
    }
   ],
   "source": [
    "# リスト 3.6.11　データ型を文字列で指定して変換\n",
    "\n",
    "# df['episodes'].astype(np.int32) と同じ\n",
    "df[\"episodes\"].astype(\"int32\")"
   ]
  },
  {
   "cell_type": "code",
   "execution_count": 12,
   "metadata": {},
   "outputs": [
    {
     "data": {
      "text/plain": [
       "anime_id      int64\n",
       "name         object\n",
       "genre        object\n",
       "type         object\n",
       "episodes      int32\n",
       "rating      float32\n",
       "members       int64\n",
       "dtype: object"
      ]
     },
     "execution_count": 12,
     "metadata": {},
     "output_type": "execute_result"
    }
   ],
   "source": [
    "# リスト 3.6.12　複数列のデータ型を変換\n",
    "\n",
    "df.astype({\"episodes\": np.int32, \"rating\": np.float32}).dtypes"
   ]
  },
  {
   "cell_type": "code",
   "execution_count": 13,
   "metadata": {},
   "outputs": [
    {
     "data": {
      "text/plain": [
       "anime_id      int64\n",
       "name         object\n",
       "genre        object\n",
       "type         object\n",
       "episodes     object\n",
       "rating      float64\n",
       "members       int64\n",
       "dtype: object"
      ]
     },
     "execution_count": 13,
     "metadata": {},
     "output_type": "execute_result"
    }
   ],
   "source": [
    "# リスト 3.6.13　元のオブジェクトを確認\n",
    "\n",
    "df.dtypes"
   ]
  },
  {
   "cell_type": "code",
   "execution_count": 14,
   "metadata": {},
   "outputs": [
    {
     "data": {
      "text/plain": [
       "anime_id      int64\n",
       "name         object\n",
       "genre        object\n",
       "type         object\n",
       "episodes      int64\n",
       "rating      float64\n",
       "members       int64\n",
       "dtype: object"
      ]
     },
     "execution_count": 14,
     "metadata": {},
     "output_type": "execute_result"
    }
   ],
   "source": [
    "# リスト 3.6.14　列を指定して代入\n",
    "\n",
    "df[\"episodes\"] = df[\"episodes\"].astype(np.int64)\n",
    "df.dtypes"
   ]
  },
  {
   "cell_type": "code",
   "execution_count": 15,
   "metadata": {},
   "outputs": [
    {
     "data": {
      "text/html": [
       "<div>\n",
       "<style scoped>\n",
       "    .dataframe tbody tr th:only-of-type {\n",
       "        vertical-align: middle;\n",
       "    }\n",
       "\n",
       "    .dataframe tbody tr th {\n",
       "        vertical-align: top;\n",
       "    }\n",
       "\n",
       "    .dataframe thead th {\n",
       "        text-align: right;\n",
       "    }\n",
       "</style>\n",
       "<table border=\"1\" class=\"dataframe\">\n",
       "  <thead>\n",
       "    <tr style=\"text-align: right;\">\n",
       "      <th></th>\n",
       "      <th>anime_id</th>\n",
       "      <th>name</th>\n",
       "      <th>genre</th>\n",
       "      <th>type</th>\n",
       "      <th>episodes</th>\n",
       "      <th>rating</th>\n",
       "      <th>members</th>\n",
       "    </tr>\n",
       "  </thead>\n",
       "  <tbody>\n",
       "    <tr>\n",
       "      <th>9846</th>\n",
       "      <td>33662</td>\n",
       "      <td>Taka no Tsume 8: Yoshida-kun no X-Files</td>\n",
       "      <td>Comedy, Parody</td>\n",
       "      <td>Movie</td>\n",
       "      <td>1</td>\n",
       "      <td>10.00</td>\n",
       "      <td>13</td>\n",
       "    </tr>\n",
       "    <tr>\n",
       "      <th>8985</th>\n",
       "      <td>23005</td>\n",
       "      <td>Mogura no Motoro</td>\n",
       "      <td>Slice of Life</td>\n",
       "      <td>Movie</td>\n",
       "      <td>1</td>\n",
       "      <td>9.50</td>\n",
       "      <td>62</td>\n",
       "    </tr>\n",
       "    <tr>\n",
       "      <th>0</th>\n",
       "      <td>32281</td>\n",
       "      <td>Kimi no Na wa.</td>\n",
       "      <td>Drama, Romance, School, Supernatural</td>\n",
       "      <td>Movie</td>\n",
       "      <td>1</td>\n",
       "      <td>9.37</td>\n",
       "      <td>200630</td>\n",
       "    </tr>\n",
       "    <tr>\n",
       "      <th>8474</th>\n",
       "      <td>33607</td>\n",
       "      <td>Kahei no Umi</td>\n",
       "      <td>Historical</td>\n",
       "      <td>Movie</td>\n",
       "      <td>1</td>\n",
       "      <td>9.33</td>\n",
       "      <td>44</td>\n",
       "    </tr>\n",
       "    <tr>\n",
       "      <th>1</th>\n",
       "      <td>5114</td>\n",
       "      <td>Fullmetal Alchemist: Brotherhood</td>\n",
       "      <td>Action, Adventure, Drama, Fantasy, Magic, Mili...</td>\n",
       "      <td>TV</td>\n",
       "      <td>64</td>\n",
       "      <td>9.26</td>\n",
       "      <td>793665</td>\n",
       "    </tr>\n",
       "  </tbody>\n",
       "</table>\n",
       "</div>"
      ],
      "text/plain": [
       "      anime_id                                     name  \\\n",
       "9846     33662  Taka no Tsume 8: Yoshida-kun no X-Files   \n",
       "8985     23005                         Mogura no Motoro   \n",
       "0        32281                           Kimi no Na wa.   \n",
       "8474     33607                             Kahei no Umi   \n",
       "1         5114         Fullmetal Alchemist: Brotherhood   \n",
       "\n",
       "                                                  genre   type  episodes  \\\n",
       "9846                                     Comedy, Parody  Movie         1   \n",
       "8985                                      Slice of Life  Movie         1   \n",
       "0                  Drama, Romance, School, Supernatural  Movie         1   \n",
       "8474                                         Historical  Movie         1   \n",
       "1     Action, Adventure, Drama, Fantasy, Magic, Mili...     TV        64   \n",
       "\n",
       "      rating  members  \n",
       "9846   10.00       13  \n",
       "8985    9.50       62  \n",
       "0       9.37   200630  \n",
       "8474    9.33       44  \n",
       "1       9.26   793665  "
      ]
     },
     "execution_count": 15,
     "metadata": {},
     "output_type": "execute_result"
    }
   ],
   "source": [
    "# リスト 3.6.15　降順にソート\n",
    "\n",
    "df.sort_values(\"rating\", ascending=False).head()"
   ]
  },
  {
   "cell_type": "code",
   "execution_count": 16,
   "metadata": {},
   "outputs": [
    {
     "name": "stdout",
     "output_type": "stream",
     "text": [
      "0                      Kimi no Na wa.\n",
      "1    Fullmetal Alchemist: Brotherhood\n",
      "2                            Gintama°\n",
      "3                         Steins;Gate\n",
      "4                       Gintama&#039;\n",
      "Name: name, dtype: object\n",
      "0                      Kimi no Na wa.\n",
      "1    Fullmetal Alchemist: Brotherhood\n",
      "2                            Gintama°\n",
      "3                         Steins;Gate\n",
      "4                            Gintama'\n",
      "Name: name, dtype: object\n"
     ]
    }
   ],
   "source": [
    "# リスト 3.6.16　map メソッドによる関数の適用\n",
    "\n",
    "import html\n",
    "\n",
    "print(df[\"name\"].head())\n",
    "print(df[\"name\"].map(html.unescape).head())"
   ]
  },
  {
   "cell_type": "code",
   "execution_count": 17,
   "metadata": {},
   "outputs": [
    {
     "data": {
      "text/plain": [
       "anime_id    10075\n",
       "name        10075\n",
       "genre       10075\n",
       "type        10075\n",
       "episodes    10075\n",
       "rating      10075\n",
       "members     10075\n",
       "dtype: int64"
      ]
     },
     "execution_count": 17,
     "metadata": {},
     "output_type": "execute_result"
    }
   ],
   "source": [
    "# リスト 3.6.17　apply メソッドによる関数の適用\n",
    "\n",
    "df.apply(len)"
   ]
  },
  {
   "cell_type": "code",
   "execution_count": 18,
   "metadata": {},
   "outputs": [
    {
     "data": {
      "text/plain": [
       "0    7\n",
       "1    7\n",
       "2    7\n",
       "3    7\n",
       "4    7\n",
       "dtype: int64"
      ]
     },
     "execution_count": 18,
     "metadata": {},
     "output_type": "execute_result"
    }
   ],
   "source": [
    "# リスト 3.6.18　各行に対して関数を適用\n",
    "\n",
    "df.apply(len, axis=1).head()"
   ]
  },
  {
   "cell_type": "code",
   "execution_count": 19,
   "metadata": {},
   "outputs": [
    {
     "data": {
      "text/plain": [
       "anime_id    <class 'pandas.core.series.Series'>\n",
       "name        <class 'pandas.core.series.Series'>\n",
       "genre       <class 'pandas.core.series.Series'>\n",
       "type        <class 'pandas.core.series.Series'>\n",
       "episodes    <class 'pandas.core.series.Series'>\n",
       "rating      <class 'pandas.core.series.Series'>\n",
       "members     <class 'pandas.core.series.Series'>\n",
       "dtype: object"
      ]
     },
     "execution_count": 19,
     "metadata": {},
     "output_type": "execute_result"
    }
   ],
   "source": [
    "# リスト 3.6.19　apply メソッドに渡されるデータ型\n",
    "\n",
    "df.apply(type)"
   ]
  },
  {
   "cell_type": "code",
   "execution_count": 20,
   "metadata": {},
   "outputs": [
    {
     "data": {
      "text/plain": [
       "0    50\n",
       "1    91\n",
       "2    68\n",
       "3    27\n",
       "4    73\n",
       "dtype: int64"
      ]
     },
     "execution_count": 20,
     "metadata": {},
     "output_type": "execute_result"
    }
   ],
   "source": [
    "# リスト 3.6.20　name 列と genre 列の文字数を合計\n",
    "\n",
    "\n",
    "def func(x):\n",
    "    return len(x[\"name\"]) + len(x[\"genre\"])\n",
    "\n",
    "\n",
    "df.apply(func, axis=1).head()\n",
    "\n",
    "# 下記のようにも記述できる\n",
    "# df.apply(lambda x: len(x[\"name\"]) + len(x[\"genre\"]), axis=1).head()"
   ]
  },
  {
   "cell_type": "code",
   "execution_count": 21,
   "metadata": {},
   "outputs": [
    {
     "data": {
      "text/html": [
       "<div>\n",
       "<style scoped>\n",
       "    .dataframe tbody tr th:only-of-type {\n",
       "        vertical-align: middle;\n",
       "    }\n",
       "\n",
       "    .dataframe tbody tr th {\n",
       "        vertical-align: top;\n",
       "    }\n",
       "\n",
       "    .dataframe thead th {\n",
       "        text-align: right;\n",
       "    }\n",
       "</style>\n",
       "<table border=\"1\" class=\"dataframe\">\n",
       "  <thead>\n",
       "    <tr style=\"text-align: right;\">\n",
       "      <th></th>\n",
       "      <th>name</th>\n",
       "      <th>genre</th>\n",
       "    </tr>\n",
       "  </thead>\n",
       "  <tbody>\n",
       "    <tr>\n",
       "      <th>0</th>\n",
       "      <td>14</td>\n",
       "      <td>36</td>\n",
       "    </tr>\n",
       "    <tr>\n",
       "      <th>1</th>\n",
       "      <td>32</td>\n",
       "      <td>59</td>\n",
       "    </tr>\n",
       "    <tr>\n",
       "      <th>2</th>\n",
       "      <td>8</td>\n",
       "      <td>60</td>\n",
       "    </tr>\n",
       "    <tr>\n",
       "      <th>3</th>\n",
       "      <td>11</td>\n",
       "      <td>16</td>\n",
       "    </tr>\n",
       "    <tr>\n",
       "      <th>4</th>\n",
       "      <td>13</td>\n",
       "      <td>60</td>\n",
       "    </tr>\n",
       "  </tbody>\n",
       "</table>\n",
       "</div>"
      ],
      "text/plain": [
       "   name  genre\n",
       "0    14     36\n",
       "1    32     59\n",
       "2     8     60\n",
       "3    11     16\n",
       "4    13     60"
      ]
     },
     "execution_count": 21,
     "metadata": {},
     "output_type": "execute_result"
    }
   ],
   "source": [
    "# リスト 3.6.21　applymap メソッドによる関数の適用\n",
    "\n",
    "df[[\"name\", \"genre\"]].applymap(len).head()"
   ]
  }
 ],
 "metadata": {
  "kernelspec": {
   "display_name": "Python 3",
   "language": "python",
   "name": "python3"
  },
  "language_info": {
   "codemirror_mode": {
    "name": "ipython",
    "version": 3
   },
   "file_extension": ".py",
   "mimetype": "text/x-python",
   "name": "python",
   "nbconvert_exporter": "python",
   "pygments_lexer": "ipython3",
   "version": "3.8.2"
  }
 },
 "nbformat": 4,
 "nbformat_minor": 4
}
